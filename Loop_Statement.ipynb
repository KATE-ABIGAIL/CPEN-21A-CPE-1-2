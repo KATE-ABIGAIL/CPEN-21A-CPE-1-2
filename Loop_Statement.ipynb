{
  "nbformat": 4,
  "nbformat_minor": 0,
  "metadata": {
    "colab": {
      "name": "Loop Statement.ipynb",
      "provenance": [],
      "authorship_tag": "ABX9TyPo5V4XkHEJ0cChHuN+iqx7",
      "include_colab_link": true
    },
    "kernelspec": {
      "name": "python3",
      "display_name": "Python 3"
    },
    "language_info": {
      "name": "python"
    }
  },
  "cells": [
    {
      "cell_type": "markdown",
      "metadata": {
        "id": "view-in-github",
        "colab_type": "text"
      },
      "source": [
        "<a href=\"https://colab.research.google.com/github/KATE-ABIGAIL/CPEN-21A-CPE-1-2/blob/main/Loop_Statement.ipynb\" target=\"_parent\"><img src=\"https://colab.research.google.com/assets/colab-badge.svg\" alt=\"Open In Colab\"/></a>"
      ]
    },
    {
      "cell_type": "markdown",
      "source": [
        "###For Loop"
      ],
      "metadata": {
        "id": "jcy1HvOiKMyu"
      }
    },
    {
      "cell_type": "code",
      "source": [
        "week = [\"Sunday\", \"Monday\", \"Tuesday\", \"Wednesday\", \"Thursday\", \"Friday\", \"Saturday\", \"Sunday\"]\n",
        "\n",
        "for x in week:\n",
        "  print(x)"
      ],
      "metadata": {
        "colab": {
          "base_uri": "https://localhost:8080/"
        },
        "id": "8W-LPah7KPWi",
        "outputId": "b702c082-492a-4a91-b1d8-f774dd451fe4"
      },
      "execution_count": 2,
      "outputs": [
        {
          "output_type": "stream",
          "name": "stdout",
          "text": [
            "Sunday\n",
            "Monday\n",
            "Tuesday\n",
            "Wednesday\n",
            "Thursday\n",
            "Friday\n",
            "Saturday\n",
            "Sunday\n"
          ]
        }
      ]
    },
    {
      "cell_type": "markdown",
      "source": [
        "###The break statement"
      ],
      "metadata": {
        "id": "T_0fTeW_LLmF"
      }
    },
    {
      "cell_type": "code",
      "source": [
        "for x in week:\n",
        "  print(x)\n",
        "  if x==\"Thursday\":\n",
        "    break"
      ],
      "metadata": {
        "colab": {
          "base_uri": "https://localhost:8080/"
        },
        "id": "57MG8Dz0LO3Z",
        "outputId": "91153be5-f238-41ab-9f61-f4a74b575924"
      },
      "execution_count": 68,
      "outputs": [
        {
          "output_type": "stream",
          "name": "stdout",
          "text": [
            "Sunday\n",
            "Monday\n",
            "Tuesday\n",
            "Wednesday\n",
            "Thursday\n"
          ]
        }
      ]
    },
    {
      "cell_type": "code",
      "source": [
        "#The break statement\n",
        "for x in week:\n",
        "  if x==\"Thursday\":\n",
        "    break\n",
        "  print(x)"
      ],
      "metadata": {
        "colab": {
          "base_uri": "https://localhost:8080/"
        },
        "id": "wGJCWao1LlrC",
        "outputId": "ef420727-763c-45f1-f64d-a35b6812bac9"
      },
      "execution_count": 15,
      "outputs": [
        {
          "output_type": "stream",
          "name": "stdout",
          "text": [
            "Sunday\n",
            "Monday\n",
            "Tuesday\n",
            "Wednesday\n"
          ]
        }
      ]
    },
    {
      "cell_type": "markdown",
      "source": [
        "###Looping through a string"
      ],
      "metadata": {
        "id": "Dmh3YyTWMGd6"
      }
    },
    {
      "cell_type": "code",
      "source": [
        "for x in \"Programming with Python\":\n",
        "  print(x)"
      ],
      "metadata": {
        "colab": {
          "base_uri": "https://localhost:8080/"
        },
        "id": "-BVeUP2mMKqW",
        "outputId": "3664c560-7ac6-4810-d0b9-08e7aa27d5e9"
      },
      "execution_count": 6,
      "outputs": [
        {
          "output_type": "stream",
          "name": "stdout",
          "text": [
            "P\n",
            "r\n",
            "o\n",
            "g\n",
            "r\n",
            "a\n",
            "m\n",
            "m\n",
            "i\n",
            "n\n",
            "g\n",
            " \n",
            "w\n",
            "i\n",
            "t\n",
            "h\n",
            " \n",
            "P\n",
            "y\n",
            "t\n",
            "h\n",
            "o\n",
            "n\n"
          ]
        }
      ]
    },
    {
      "cell_type": "markdown",
      "source": [
        "###The range() Function"
      ],
      "metadata": {
        "id": "nvZvRslIMdd7"
      }
    },
    {
      "cell_type": "code",
      "source": [
        "for x in range(10):\n",
        "  print(x)\n",
        " "
      ],
      "metadata": {
        "colab": {
          "base_uri": "https://localhost:8080/"
        },
        "id": "thvToWDWMiK-",
        "outputId": "a9680389-e0fc-41b9-cb9b-e091289e2fc3"
      },
      "execution_count": 8,
      "outputs": [
        {
          "output_type": "stream",
          "name": "stdout",
          "text": [
            "0\n",
            "1\n",
            "2\n",
            "3\n",
            "4\n",
            "5\n",
            "6\n",
            "7\n",
            "8\n",
            "9\n"
          ]
        }
      ]
    },
    {
      "cell_type": "markdown",
      "source": [
        "###Nested Loops"
      ],
      "metadata": {
        "id": "PKDk3TBtNULP"
      }
    },
    {
      "cell_type": "code",
      "source": [
        "adjective = [\"red\", \"big\", \"tasty\"]\n",
        "fruits = [\"apple\", \"banana\", \"cherry\"]\n",
        "\n",
        "for x in adjective:\n",
        "  for y in fruits:\n",
        "    print(x,y)"
      ],
      "metadata": {
        "colab": {
          "base_uri": "https://localhost:8080/"
        },
        "id": "mqdLwn2kNWGf",
        "outputId": "5106694f-8da2-4472-bd3e-aa9b39994d6a"
      },
      "execution_count": 7,
      "outputs": [
        {
          "output_type": "stream",
          "name": "stdout",
          "text": [
            "red apple\n",
            "red banana\n",
            "red cherry\n",
            "big apple\n",
            "big banana\n",
            "big cherry\n",
            "tasty apple\n",
            "tasty banana\n",
            "tasty cherry\n"
          ]
        }
      ]
    },
    {
      "cell_type": "markdown",
      "source": [
        "###While Loops"
      ],
      "metadata": {
        "id": "rsCnFtPJOLQj"
      }
    },
    {
      "cell_type": "code",
      "source": [
        "i = 10\n",
        "while i>6:\n",
        "  print(i)\n",
        "  i-=1  #Assignment operator for subtraction, i = i-1"
      ],
      "metadata": {
        "colab": {
          "base_uri": "https://localhost:8080/"
        },
        "id": "fhtGDQNUPuYy",
        "outputId": "17e7da31-c910-450b-ba27-06363f0d1a4d"
      },
      "execution_count": 12,
      "outputs": [
        {
          "output_type": "stream",
          "name": "stdout",
          "text": [
            "10\n",
            "9\n",
            "8\n",
            "7\n"
          ]
        }
      ]
    },
    {
      "cell_type": "markdown",
      "source": [
        "###The break statement"
      ],
      "metadata": {
        "id": "YVyoLFAwQA-I"
      }
    },
    {
      "cell_type": "code",
      "source": [
        "i = 10\n",
        "while i>6:\n",
        "  print(i)\n",
        "  if i==8:\n",
        "    break\n",
        "  i-=1"
      ],
      "metadata": {
        "colab": {
          "base_uri": "https://localhost:8080/"
        },
        "id": "gA6E79YKQC9o",
        "outputId": "face9f09-ed57-44c1-dec6-63e9c2fc3a12"
      },
      "execution_count": 13,
      "outputs": [
        {
          "output_type": "stream",
          "name": "stdout",
          "text": [
            "10\n",
            "9\n",
            "8\n"
          ]
        }
      ]
    },
    {
      "cell_type": "markdown",
      "source": [
        "###The continue statement"
      ],
      "metadata": {
        "id": "zG21FT-tQXln"
      }
    },
    {
      "cell_type": "code",
      "source": [
        "i = 10\n",
        "while i>6:\n",
        "  i=i-1\n",
        "  if i==8:\n",
        "    continue\n",
        "  print(i)"
      ],
      "metadata": {
        "colab": {
          "base_uri": "https://localhost:8080/"
        },
        "id": "GdBE1q02QZoP",
        "outputId": "082b074d-03f5-4ec7-e3e3-08db0d3968e4"
      },
      "execution_count": 20,
      "outputs": [
        {
          "output_type": "stream",
          "name": "stdout",
          "text": [
            "9\n",
            "7\n",
            "6\n"
          ]
        }
      ]
    },
    {
      "cell_type": "markdown",
      "source": [
        "###The else statement"
      ],
      "metadata": {
        "id": "-eqNz2SJRNCQ"
      }
    },
    {
      "cell_type": "code",
      "source": [
        "i = 10\n",
        "while i>6:\n",
        "  i=i-1\n",
        "  print(i)\n",
        "else:\n",
        "  print(\"i is no longer greater than 6\")"
      ],
      "metadata": {
        "colab": {
          "base_uri": "https://localhost:8080/"
        },
        "id": "wnZFqTFaRO6i",
        "outputId": "1cf723d3-86b8-439e-8cd8-2f9f6f2e67f1"
      },
      "execution_count": 21,
      "outputs": [
        {
          "output_type": "stream",
          "name": "stdout",
          "text": [
            "9\n",
            "8\n",
            "7\n",
            "6\n",
            "i is no longer greater than 6\n"
          ]
        }
      ]
    },
    {
      "cell_type": "markdown",
      "source": [
        "###Application 1"
      ],
      "metadata": {
        "id": "YJ2Dj4_rSCSW"
      }
    },
    {
      "cell_type": "code",
      "source": [
        "#For loop\n",
        "a = [\"Value\"]\n",
        "b = [\"0\", \"1\", \"2\", \"3\", \"4\", \"5\", \"6\", \"7\", \"8\", \"9\", \"10\"]\n",
        "for x in a:\n",
        "  for y in b:\n",
        "    print(x,y)"
      ],
      "metadata": {
        "colab": {
          "base_uri": "https://localhost:8080/"
        },
        "id": "RTCSO9SgakZN",
        "outputId": "1801b360-957e-4329-ecda-23724f1ce3dd"
      },
      "execution_count": 66,
      "outputs": [
        {
          "output_type": "stream",
          "name": "stdout",
          "text": [
            "Value 0\n",
            "Value 1\n",
            "Value 2\n",
            "Value 3\n",
            "Value 4\n",
            "Value 5\n",
            "Value 6\n",
            "Value 7\n",
            "Value 8\n",
            "Value 9\n",
            "Value 10\n"
          ]
        }
      ]
    },
    {
      "cell_type": "code",
      "source": [
        "#while loop\n",
        "b = -1\n",
        "c = \"Value\"\n",
        "while b<11:\n",
        "  b+=1\n",
        "  print(c, b)\n",
        "  if b==10:\n",
        "    break"
      ],
      "metadata": {
        "colab": {
          "base_uri": "https://localhost:8080/"
        },
        "id": "6RiaM9QlWadr",
        "outputId": "47722b7f-a093-40e7-ac1b-46f8ee870f7f"
      },
      "execution_count": 65,
      "outputs": [
        {
          "output_type": "stream",
          "name": "stdout",
          "text": [
            "Value 0\n",
            "Value 1\n",
            "Value 2\n",
            "Value 3\n",
            "Value 4\n",
            "Value 5\n",
            "Value 6\n",
            "Value 7\n",
            "Value 8\n",
            "Value 9\n",
            "Value 10\n"
          ]
        }
      ]
    },
    {
      "cell_type": "markdown",
      "source": [
        "###Application 2"
      ],
      "metadata": {
        "id": "ILwyGbMzSEp5"
      }
    },
    {
      "cell_type": "code",
      "source": [
        "i = 20\n",
        "while i>3:\n",
        "  i-=1\n",
        "  print(i)\n",
        "  if i==4:\n",
        "    break\n",
        "#else:\n",
        "    #print (\"i is no longer greater than 3\")"
      ],
      "metadata": {
        "colab": {
          "base_uri": "https://localhost:8080/"
        },
        "id": "k7lG8PYxSWA1",
        "outputId": "e23129e9-0d98-4f7f-8341-520eddde4056"
      },
      "execution_count": 26,
      "outputs": [
        {
          "output_type": "stream",
          "name": "stdout",
          "text": [
            "19\n",
            "18\n",
            "17\n",
            "16\n",
            "15\n",
            "14\n",
            "13\n",
            "12\n",
            "11\n",
            "10\n",
            "9\n",
            "8\n",
            "7\n",
            "6\n",
            "5\n",
            "4\n"
          ]
        }
      ]
    }
  ]
}