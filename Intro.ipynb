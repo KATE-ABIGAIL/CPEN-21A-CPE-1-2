{
  "nbformat": 4,
  "nbformat_minor": 0,
  "metadata": {
    "colab": {
      "name": "Intro.ipynb",
      "provenance": [],
      "authorship_tag": "ABX9TyObIW1P+GJpmXs5f0RKD84W",
      "include_colab_link": true
    },
    "kernelspec": {
      "name": "python3",
      "display_name": "Python 3"
    },
    "language_info": {
      "name": "python"
    }
  },
  "cells": [
    {
      "cell_type": "markdown",
      "metadata": {
        "id": "view-in-github",
        "colab_type": "text"
      },
      "source": [
        "<a href=\"https://colab.research.google.com/github/KATE-ABIGAIL/CPEN-21A-CPE-1-2/blob/main/Intro.ipynb\" target=\"_parent\"><img src=\"https://colab.research.google.com/assets/colab-badge.svg\" alt=\"Open In Colab\"/></a>"
      ]
    },
    {
      "cell_type": "code",
      "metadata": {
        "colab": {
          "base_uri": "https://localhost:8080/"
        },
        "id": "ske1tjNB3iWT",
        "outputId": "cdca0dd3-f99e-4bfa-a118-d71f2cb9fe99"
      },
      "source": [
        "#Python Indention\n",
        "if 5>2:\n",
        "  print(\"five is greater than two\")\n",
        "  "
      ],
      "execution_count": 1,
      "outputs": [
        {
          "output_type": "stream",
          "name": "stdout",
          "text": [
            "five is greater than two\n"
          ]
        }
      ]
    },
    {
      "cell_type": "code",
      "metadata": {
        "colab": {
          "base_uri": "https://localhost:8080/"
        },
        "id": "OxxbRCGd5C1b",
        "outputId": "8a929a7f-23ca-4732-8d81-6fef579710a2"
      },
      "source": [
        "x = 1   #This is a single variable with single value\n",
        "x,y=1,2 #These are two variables with two different values\n",
        "x,y,z=1,2,3 \n",
        "print(x)\n",
        "print(y)\n",
        "print(z)"
      ],
      "execution_count": 2,
      "outputs": [
        {
          "output_type": "stream",
          "name": "stdout",
          "text": [
            "1\n",
            "2\n",
            "3\n"
          ]
        }
      ]
    },
    {
      "cell_type": "markdown",
      "metadata": {
        "id": "1piCoFFN6-M3"
      },
      "source": [
        "###Casting"
      ]
    },
    {
      "cell_type": "code",
      "metadata": {
        "colab": {
          "base_uri": "https://localhost:8080/"
        },
        "id": "01ieWR2C6jIn",
        "outputId": "d09a2d2e-11a1-41a8-c7ba-f4be723166c9"
      },
      "source": [
        "b = int(4)\n",
        "b\n",
        "c = float(4)\n",
        "c"
      ],
      "execution_count": 5,
      "outputs": [
        {
          "output_type": "execute_result",
          "data": {
            "text/plain": [
              "4.0"
            ]
          },
          "metadata": {},
          "execution_count": 5
        }
      ]
    },
    {
      "cell_type": "markdown",
      "metadata": {
        "id": "XEpxA2oe7VSf"
      },
      "source": [
        "###Type Function"
      ]
    },
    {
      "cell_type": "code",
      "metadata": {
        "colab": {
          "base_uri": "https://localhost:8080/"
        },
        "id": "yPgfyxzM7ZD-",
        "outputId": "eccaf863-ec32-48d1-9697-6c71203cfc7d"
      },
      "source": [
        "x = 5\n",
        "y = \"John\"  #This is a type of string\n",
        "h = 'ana'\n",
        "H = 'Ana'\n",
        "print(type(x))\n",
        "print(type(y))\n",
        "print(h)\n",
        "print(H)"
      ],
      "execution_count": 9,
      "outputs": [
        {
          "output_type": "stream",
          "name": "stdout",
          "text": [
            "<class 'int'>\n",
            "<class 'str'>\n",
            "ana\n",
            "Ana\n"
          ]
        }
      ]
    },
    {
      "cell_type": "markdown",
      "metadata": {
        "id": "CwcD8AXs8V4V"
      },
      "source": [
        "###One Value to Multiple Variables"
      ]
    },
    {
      "cell_type": "code",
      "metadata": {
        "colab": {
          "base_uri": "https://localhost:8080/"
        },
        "id": "FtoZAfws8ZwQ",
        "outputId": "4072b95e-10fb-480a-e582-d4f3a07f7548"
      },
      "source": [
        "x = y = z = 'four'\n",
        "print(x)\n",
        "print(y)\n",
        "print(z)"
      ],
      "execution_count": 10,
      "outputs": [
        {
          "output_type": "stream",
          "name": "stdout",
          "text": [
            "four\n",
            "four\n",
            "four\n"
          ]
        }
      ]
    },
    {
      "cell_type": "markdown",
      "metadata": {
        "id": "FNMijCQt8tq1"
      },
      "source": [
        "###Output Variables"
      ]
    },
    {
      "cell_type": "code",
      "metadata": {
        "colab": {
          "base_uri": "https://localhost:8080/"
        },
        "id": "sgKSoQxu8w6Q",
        "outputId": "bf60622e-d721-4cac-8b7f-f78c855a448e"
      },
      "source": [
        "x = \"enjoying\"\n",
        "print(\"Python Programming is \" + x)"
      ],
      "execution_count": 24,
      "outputs": [
        {
          "output_type": "stream",
          "name": "stdout",
          "text": [
            "Python Programming is enjoying\n"
          ]
        }
      ]
    },
    {
      "cell_type": "code",
      "metadata": {
        "colab": {
          "base_uri": "https://localhost:8080/"
        },
        "id": "19ccmR4u9wVy",
        "outputId": "0390e74b-ef80-41c1-9002-4a16736d04f2"
      },
      "source": [
        "x = 11\n",
        "y = 12\n",
        "z = 13\n",
        "print(x+y+z)"
      ],
      "execution_count": 15,
      "outputs": [
        {
          "output_type": "stream",
          "name": "stdout",
          "text": [
            "36\n"
          ]
        }
      ]
    },
    {
      "cell_type": "code",
      "metadata": {
        "colab": {
          "base_uri": "https://localhost:8080/"
        },
        "id": "BtW9rNC_-HNH",
        "outputId": "b1ee72ce-a347-44e3-c733-ea58c4b5f58d"
      },
      "source": [
        "x+=3  #This is the same as x = x +3\n",
        "print(x)"
      ],
      "execution_count": 16,
      "outputs": [
        {
          "output_type": "stream",
          "name": "stdout",
          "text": [
            "14\n"
          ]
        }
      ]
    },
    {
      "cell_type": "code",
      "metadata": {
        "colab": {
          "base_uri": "https://localhost:8080/"
        },
        "id": "dNymUyoD-chQ",
        "outputId": "28bfb735-8523-47c0-873d-c4e0df8126c0"
      },
      "source": [
        "y+=5\n",
        "print(y)"
      ],
      "execution_count": 18,
      "outputs": [
        {
          "output_type": "stream",
          "name": "stdout",
          "text": [
            "17\n"
          ]
        }
      ]
    },
    {
      "cell_type": "code",
      "metadata": {
        "colab": {
          "base_uri": "https://localhost:8080/"
        },
        "id": "bNkYVbWK-QZ_",
        "outputId": "0485f591-d257-48a7-d566-d3fedfd4b9b9"
      },
      "source": [
        "x<y and x!=x"
      ],
      "execution_count": 21,
      "outputs": [
        {
          "output_type": "execute_result",
          "data": {
            "text/plain": [
              "False"
            ]
          },
          "metadata": {},
          "execution_count": 21
        }
      ]
    },
    {
      "cell_type": "code",
      "metadata": {
        "colab": {
          "base_uri": "https://localhost:8080/"
        },
        "id": "KQ4OU8M6DQGj",
        "outputId": "fff7060f-42f6-4707-e2a1-d4e42c641c86"
      },
      "source": [
        "x>y or y==z"
      ],
      "execution_count": 22,
      "outputs": [
        {
          "output_type": "execute_result",
          "data": {
            "text/plain": [
              "False"
            ]
          },
          "metadata": {},
          "execution_count": 22
        }
      ]
    },
    {
      "cell_type": "markdown",
      "metadata": {
        "id": "OfZcgkWwDWpD"
      },
      "source": [
        "###Identity Operation"
      ]
    },
    {
      "cell_type": "code",
      "metadata": {
        "colab": {
          "base_uri": "https://localhost:8080/"
        },
        "id": "_iYrz2pkDZUt",
        "outputId": "7ff48b9f-c47f-4021-ce34-ac897d27dea5"
      },
      "source": [
        "print(x is y)\n",
        "print(x is not z)"
      ],
      "execution_count": 23,
      "outputs": [
        {
          "output_type": "stream",
          "name": "stdout",
          "text": [
            "False\n",
            "True\n"
          ]
        }
      ]
    }
  ]
}