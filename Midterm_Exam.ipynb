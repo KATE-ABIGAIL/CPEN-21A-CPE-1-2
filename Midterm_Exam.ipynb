{
  "nbformat": 4,
  "nbformat_minor": 0,
  "metadata": {
    "colab": {
      "name": "Midterm Exam.ipynb",
      "provenance": [],
      "authorship_tag": "ABX9TyOcsd7IV8tgYwOp5aBFtfjB",
      "include_colab_link": true
    },
    "kernelspec": {
      "name": "python3",
      "display_name": "Python 3"
    },
    "language_info": {
      "name": "python"
    }
  },
  "cells": [
    {
      "cell_type": "markdown",
      "metadata": {
        "id": "view-in-github",
        "colab_type": "text"
      },
      "source": [
        "<a href=\"https://colab.research.google.com/github/KATE-ABIGAIL/CPEN-21A-CPE-1-2/blob/main/Midterm_Exam.ipynb\" target=\"_parent\"><img src=\"https://colab.research.google.com/assets/colab-badge.svg\" alt=\"Open In Colab\"/></a>"
      ]
    },
    {
      "cell_type": "markdown",
      "metadata": {
        "id": "evqmyYZBMhQN"
      },
      "source": [
        "###Problem Statement 1"
      ]
    },
    {
      "cell_type": "code",
      "metadata": {
        "colab": {
          "base_uri": "https://localhost:8080/"
        },
        "id": "iOZy4FfyMoFa",
        "outputId": "d4799734-e2ca-42cd-a2c3-7f51c90f0318"
      },
      "source": [
        "#a.\n",
        "Full_Name = \"Kate Abigail H. Palileo\"\n",
        "print(Full_Name)"
      ],
      "execution_count": 30,
      "outputs": [
        {
          "output_type": "stream",
          "name": "stdout",
          "text": [
            "Kate Abigail H. Palileo\n"
          ]
        }
      ]
    },
    {
      "cell_type": "code",
      "metadata": {
        "colab": {
          "base_uri": "https://localhost:8080/"
        },
        "id": "53Jflh6aNcOi",
        "outputId": "9e2f6856-a117-4b79-fb35-49cb00eb7b45"
      },
      "source": [
        "#b.\n",
        "Student_Number = 202101928\n",
        "print(Student_Number)"
      ],
      "execution_count": 31,
      "outputs": [
        {
          "output_type": "stream",
          "name": "stdout",
          "text": [
            "202101928\n"
          ]
        }
      ]
    },
    {
      "cell_type": "code",
      "metadata": {
        "colab": {
          "base_uri": "https://localhost:8080/"
        },
        "id": "PMjatK5fNlcB",
        "outputId": "400e718c-7c05-4731-dd87-f850081cb5e8"
      },
      "source": [
        "#c.\n",
        "Age = \"18 years old\"\n",
        "print(Age)"
      ],
      "execution_count": 32,
      "outputs": [
        {
          "output_type": "stream",
          "name": "stdout",
          "text": [
            "18 years old\n"
          ]
        }
      ]
    },
    {
      "cell_type": "code",
      "metadata": {
        "colab": {
          "base_uri": "https://localhost:8080/"
        },
        "id": "g8HIoRK6NrsV",
        "outputId": "0a3caa2e-5f38-481c-ccdb-04c3470d9925"
      },
      "source": [
        "#d.\n",
        "Birthday = \"December 30, 2002\"\n",
        "print(Birthday)"
      ],
      "execution_count": 33,
      "outputs": [
        {
          "output_type": "stream",
          "name": "stdout",
          "text": [
            "December 30, 2002\n"
          ]
        }
      ]
    },
    {
      "cell_type": "code",
      "metadata": {
        "colab": {
          "base_uri": "https://localhost:8080/"
        },
        "id": "BgYHGdEiN0-4",
        "outputId": "0c8e1a73-e4b1-4bac-b9bb-801941138b55"
      },
      "source": [
        "#e.\n",
        "Address = \"Daang Amaya 2, Tanza, Cavite\"\n",
        "print(Address)"
      ],
      "execution_count": 34,
      "outputs": [
        {
          "output_type": "stream",
          "name": "stdout",
          "text": [
            "Daang Amaya 2, Tanza, Cavite\n"
          ]
        }
      ]
    },
    {
      "cell_type": "code",
      "metadata": {
        "colab": {
          "base_uri": "https://localhost:8080/"
        },
        "id": "ymPbOR0VOL7h",
        "outputId": "aa057487-350b-48be-aa04-1fe0f8d25191"
      },
      "source": [
        "#f.\n",
        "Course = \"Bachelor of Science in Computer Engineering\"\n",
        "print(Course)"
      ],
      "execution_count": 35,
      "outputs": [
        {
          "output_type": "stream",
          "name": "stdout",
          "text": [
            "Bachelor of Science in Computer Engineering\n"
          ]
        }
      ]
    },
    {
      "cell_type": "code",
      "metadata": {
        "colab": {
          "base_uri": "https://localhost:8080/"
        },
        "id": "vSr6iFjAOT1a",
        "outputId": "027b0972-0206-44cf-e11e-1a31c8ee59a0"
      },
      "source": [
        "#g.\n",
        "Last_Sem_GWA = 95\n",
        "print(Last_Sem_GWA)"
      ],
      "execution_count": 36,
      "outputs": [
        {
          "output_type": "stream",
          "name": "stdout",
          "text": [
            "95\n"
          ]
        }
      ]
    },
    {
      "cell_type": "markdown",
      "metadata": {
        "id": "BEA8IgSaOxES"
      },
      "source": [
        "###Problem Statement 2"
      ]
    },
    {
      "cell_type": "code",
      "metadata": {
        "colab": {
          "base_uri": "https://localhost:8080/"
        },
        "id": "8FMMPhSaO0sw",
        "outputId": "aaff353a-ee98-4605-b61f-bece1bb389ed"
      },
      "source": [
        "n = 4\n",
        "answ = \"Y\"\n",
        "\n",
        "#a.\n",
        "print(2<n and n<6)\n",
        "\n",
        "#b. \n",
        "print(2<n or n==6)\n",
        "\n",
        "#c.\n",
        "print(not(2<n or n==6))\n",
        "\n",
        "#d.\n",
        "print(not(n<6))\n",
        "\n",
        "#e.\n",
        "print((answ==\"Y\") or (answ==\"y\"))\n",
        "\n",
        "#f.\n",
        "print((answ==\"Y\") and (answ==\"y\")) \n",
        "\n",
        "#g.\n",
        "print(not(answ==\"y\"))\n",
        "\n",
        "#h.\n",
        "print((2<n and n==5+1) or (answ==\"No\"))\n",
        "\n",
        "#i.\n",
        "print((n==2 and n==7) or (answ==\"Y\"))\n",
        "\n",
        "#j.\n",
        "print((n==2) and (n==7 or answ==\"Y\"))"
      ],
      "execution_count": 37,
      "outputs": [
        {
          "output_type": "stream",
          "name": "stdout",
          "text": [
            "True\n",
            "True\n",
            "False\n",
            "False\n",
            "True\n",
            "False\n",
            "True\n",
            "False\n",
            "True\n",
            "False\n"
          ]
        }
      ]
    },
    {
      "cell_type": "markdown",
      "metadata": {
        "id": "oRXwuccxR69K"
      },
      "source": [
        "###Problem Statement 3"
      ]
    },
    {
      "cell_type": "code",
      "metadata": {
        "colab": {
          "base_uri": "https://localhost:8080/"
        },
        "id": "H6TG17xNR9s4",
        "outputId": "ce8af53c-62f3-4583-9218-ee019e79207e"
      },
      "source": [
        "x, y, w, z = 2, -3, 7, -10\n",
        "\n",
        "#a.\n",
        "print(x/y)\n",
        "\n",
        "#b.\n",
        "print(w/y/x)\n",
        "\n",
        "#c.\n",
        "print(z/y%x)\n",
        "\n",
        "#d.\n",
        "print(x%-y*w)\n",
        "\n",
        "#e.\n",
        "print(x%y)\n",
        "\n",
        "#f.\n",
        "print(z%w-y/x*5+5)\n",
        "\n",
        "#g.\n",
        "print(9-x%(2+y))\n",
        "\n",
        "#h.\n",
        "print(z//w)\n",
        "\n",
        "#i.\n",
        "print((2+y)**2)\n",
        "\n",
        "#j.\n",
        "print(w/x*2)"
      ],
      "execution_count": 38,
      "outputs": [
        {
          "output_type": "stream",
          "name": "stdout",
          "text": [
            "-0.6666666666666666\n",
            "-1.1666666666666667\n",
            "1.3333333333333335\n",
            "14\n",
            "-1\n",
            "16.5\n",
            "9\n",
            "-2\n",
            "1\n",
            "7.0\n"
          ]
        }
      ]
    }
  ]
}