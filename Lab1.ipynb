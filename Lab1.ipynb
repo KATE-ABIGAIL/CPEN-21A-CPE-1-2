{
  "nbformat": 4,
  "nbformat_minor": 0,
  "metadata": {
    "colab": {
      "name": "Lab1.ipynb",
      "provenance": [],
      "collapsed_sections": [],
      "authorship_tag": "ABX9TyP/eRqNiO1KSp2CG0pFt6tp",
      "include_colab_link": true
    },
    "kernelspec": {
      "name": "python3",
      "display_name": "Python 3"
    },
    "language_info": {
      "name": "python"
    }
  },
  "cells": [
    {
      "cell_type": "markdown",
      "metadata": {
        "id": "view-in-github",
        "colab_type": "text"
      },
      "source": [
        "<a href=\"https://colab.research.google.com/github/KATE-ABIGAIL/CPEN-21A-CPE-1-2/blob/main/Lab1.ipynb\" target=\"_parent\"><img src=\"https://colab.research.google.com/assets/colab-badge.svg\" alt=\"Open In Colab\"/></a>"
      ]
    },
    {
      "cell_type": "markdown",
      "metadata": {
        "id": "U1GXPVVlBqct"
      },
      "source": [
        "##LABORATORY 1"
      ]
    },
    {
      "cell_type": "code",
      "metadata": {
        "colab": {
          "base_uri": "https://localhost:8080/"
        },
        "id": "ZnRq-zKK0bkM",
        "outputId": "541be63d-8de7-4c64-b482-c0f444f80333"
      },
      "source": [
        "print (\"Welcome to Python Programming\")"
      ],
      "execution_count": null,
      "outputs": [
        {
          "output_type": "stream",
          "name": "stdout",
          "text": [
            "Welcome to Python Programming\n"
          ]
        }
      ]
    },
    {
      "cell_type": "code",
      "metadata": {
        "colab": {
          "base_uri": "https://localhost:8080/"
        },
        "id": "GQxyC6ud3w9e",
        "outputId": "eeca80b7-2b60-4b99-d7d4-10633a6e21aa"
      },
      "source": [
        "name = \"NAME: Kate Abigail Palileo\"\n",
        "age = \"AGE: 18 yrs. old\"\n",
        "address = \"ADDRESS: Tanza, Cavite\"\n",
        "\n",
        "print(name)\n",
        "print(age)\n",
        "print(address)"
      ],
      "execution_count": null,
      "outputs": [
        {
          "output_type": "stream",
          "name": "stdout",
          "text": [
            "NAME: Kate Abigail Palileo\n",
            "AGE: 18 yrs. old\n",
            "ADDRESS: Tanza, Cavite\n"
          ]
        }
      ]
    }
  ]
}