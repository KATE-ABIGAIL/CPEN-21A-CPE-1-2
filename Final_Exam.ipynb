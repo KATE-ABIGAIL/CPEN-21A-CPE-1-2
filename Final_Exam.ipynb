{
  "nbformat": 4,
  "nbformat_minor": 0,
  "metadata": {
    "colab": {
      "name": "Final Exam.ipynb",
      "provenance": [],
      "authorship_tag": "ABX9TyMOfbNnxbm3USycEvzsHQIV",
      "include_colab_link": true
    },
    "kernelspec": {
      "name": "python3",
      "display_name": "Python 3"
    },
    "language_info": {
      "name": "python"
    }
  },
  "cells": [
    {
      "cell_type": "markdown",
      "metadata": {
        "id": "view-in-github",
        "colab_type": "text"
      },
      "source": [
        "<a href=\"https://colab.research.google.com/github/KATE-ABIGAIL/CPEN-21A-CPE-1-2/blob/main/Final_Exam.ipynb\" target=\"_parent\"><img src=\"https://colab.research.google.com/assets/colab-badge.svg\" alt=\"Open In Colab\"/></a>"
      ]
    },
    {
      "cell_type": "markdown",
      "source": [
        "###PROBLEM STATEMENT 1."
      ],
      "metadata": {
        "id": "ab7GPGB0OJOM"
      }
    },
    {
      "cell_type": "code",
      "source": [
        "#Create a Python program that will produce an output of sum of 10 numbers less than 5 using FOR LOOP statement. (30 points)\n",
        "\n",
        "num = [ 0, 1, 2, 3, 4, -1, -2, -3, -4, -5 ]\n",
        "for x in num:\n",
        "  sum = x + 0\n",
        "print(\"The sum of 10 numbers less than 5 is\", sum)"
      ],
      "metadata": {
        "colab": {
          "base_uri": "https://localhost:8080/"
        },
        "id": "3CdC_QsbOSos",
        "outputId": "a76f2f44-f756-4820-c406-477e7ec9e7d0"
      },
      "execution_count": 7,
      "outputs": [
        {
          "output_type": "stream",
          "name": "stdout",
          "text": [
            "The sum of 10 numbers less than 5 is -5\n"
          ]
        }
      ]
    },
    {
      "cell_type": "markdown",
      "source": [
        "###PROBLEM STATEMENT 2."
      ],
      "metadata": {
        "id": "L8KMv-_BW8fJ"
      }
    },
    {
      "cell_type": "code",
      "source": [
        "#Create a Python program that will produce accept five numbers and determine the sum of first and last number among the five numbers entered using WHILE LOOP (35 points)\n",
        "\n",
        "num = []\n",
        "\n",
        "while len(num) is not 5:\n",
        "    user = int(input(\"Input number: \"))\n",
        "    num.append(user)\n",
        "\n",
        "print(num)\n",
        "summ = num[0] + num[-1]\n",
        "print(summ)"
      ],
      "metadata": {
        "colab": {
          "base_uri": "https://localhost:8080/"
        },
        "id": "aywNLLVvkOfS",
        "outputId": "80f101cd-09e0-4ae5-db7d-34026848cb78"
      },
      "execution_count": 48,
      "outputs": [
        {
          "output_type": "stream",
          "name": "stdout",
          "text": [
            "Input number: 4\n",
            "Input number: 2\n",
            "Input number: 6\n",
            "Input number: 7\n",
            "Input number: 9\n",
            "[4, 2, 6, 7, 9]\n",
            "13\n"
          ]
        }
      ]
    },
    {
      "cell_type": "markdown",
      "source": [
        "###PROBLEM STATEMENT 3."
      ],
      "metadata": {
        "id": "Ggc1kI72YmTG"
      }
    },
    {
      "cell_type": "code",
      "source": [
        "#Create a Python program to calculate student grades. It accepts a numerical grade as input and it will display the character grade as output based on the given scale: (Use Nested-IF-Else statement) (35 points)\n",
        "\n",
        "grade = x = ( int(input(\"Insert Your Grade: \")))\n",
        "\n",
        "if x >= 90:\n",
        "  print (\"A\")\n",
        "elif x >= 80:\n",
        "  print (\"B\")\n",
        "elif x >= 70:\n",
        "  print (\"C\")\n",
        "elif x >= 60:\n",
        "  print (\"D\")\n",
        "else:\n",
        "  print (\"F\")"
      ],
      "metadata": {
        "colab": {
          "base_uri": "https://localhost:8080/"
        },
        "id": "PmdpGuAjYo_G",
        "outputId": "02e1652c-7463-4c2f-f3b0-175014e1034f"
      },
      "execution_count": 17,
      "outputs": [
        {
          "output_type": "stream",
          "name": "stdout",
          "text": [
            "Insert Your Grade: 59\n",
            "F\n"
          ]
        }
      ]
    }
  ]
}